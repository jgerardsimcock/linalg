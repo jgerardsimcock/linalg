{
 "cells": [
  {
   "cell_type": "code",
   "execution_count": 1,
   "metadata": {},
   "outputs": [],
   "source": [
    "from vector import Vector\n",
    "from plane import Plane\n",
    "from line import Line\n",
    "from linsys import LinearSystem"
   ]
  },
  {
   "cell_type": "code",
   "execution_count": 2,
   "metadata": {},
   "outputs": [
    {
     "name": "stdout",
     "output_type": "stream",
     "text": [
      "1\n",
      "(Decimal('1'), Decimal('0'), Decimal('0'))\n"
     ]
    }
   ],
   "source": [
    "p0 = Plane(normal_vector=Vector(['1','1','1']), constant_term='1')\n"
   ]
  },
  {
   "cell_type": "code",
   "execution_count": 3,
   "metadata": {},
   "outputs": [],
   "source": [
    "v1 = Vector(['1','1','1'])"
   ]
  },
  {
   "cell_type": "code",
   "execution_count": 4,
   "metadata": {},
   "outputs": [
    {
     "name": "stdout",
     "output_type": "stream",
     "text": [
      "1\n",
      "1\n",
      "1\n"
     ]
    }
   ],
   "source": [
    "for i in v1.coordinates:\n",
    "    print(i)"
   ]
  },
  {
   "cell_type": "code",
   "execution_count": 5,
   "metadata": {},
   "outputs": [
    {
     "name": "stdout",
     "output_type": "stream",
     "text": [
      "1\n",
      "(Decimal('1'), Decimal('0'), Decimal('0'))\n",
      "1\n",
      "(Decimal('0'), Decimal('2'), Decimal('0'))\n",
      "1\n",
      "(Decimal('3'), Decimal('0'), Decimal('0'))\n",
      "1\n",
      "(Decimal('2'), Decimal('0'), Decimal('0'))\n",
      "[0, 1, 0, 0]\n",
      "4\n"
     ]
    }
   ],
   "source": [
    "p0 = Plane(normal_vector=Vector(['1','1','1']), constant_term='1')\n",
    "p1 = Plane(normal_vector=Vector(['0','1','0']), constant_term='2')\n",
    "p2 = Plane(normal_vector=Vector(['1','1','-1']), constant_term='3')\n",
    "p3 = Plane(normal_vector=Vector(['1','0','-2']), constant_term='2')\n",
    "\n",
    "s = LinearSystem([p0,p1,p2,p3])\n",
    "\n",
    "print(s.indices_of_first_nonzero_terms_in_each_row())\n",
    "#print('{},{},{},{}'.format(s[0],s[1],s[2],s[3]))\n",
    "print(len(s))\n",
    "#print(s[0])"
   ]
  },
  {
   "cell_type": "code",
   "execution_count": 8,
   "metadata": {},
   "outputs": [
    {
     "name": "stdout",
     "output_type": "stream",
     "text": [
      "1\n",
      "(Decimal('1'), Decimal('0'), Decimal('0'))\n",
      "1\n",
      "(Decimal('0'), Decimal('2'), Decimal('0'))\n",
      "1\n",
      "(Decimal('0'), Decimal('2'), Decimal('0'))\n"
     ]
    }
   ],
   "source": [
    "p1 = Plane(normal_vector=Vector(['1','1','1']), constant_term='1')\n",
    "p2 = Plane(normal_vector=Vector(['0','1','1']), constant_term='2')\n",
    "s = LinearSystem([p1,p2])\n",
    "t = s.compute_triangular_form()\n",
    "# if not (t[0] == p1 and\n",
    "#         t[1] == p2):\n",
    "#     print('test case 1 failed')"
   ]
  },
  {
   "cell_type": "code",
   "execution_count": 22,
   "metadata": {},
   "outputs": [
    {
     "data": {
      "text/plain": [
       "(Decimal('1'), Decimal('1'), Decimal('1'))"
      ]
     },
     "execution_count": 22,
     "metadata": {},
     "output_type": "execute_result"
    }
   ],
   "source": [
    "p1.normal_vector.coordinates"
   ]
  },
  {
   "cell_type": "code",
   "execution_count": 24,
   "metadata": {},
   "outputs": [
    {
     "data": {
      "text/plain": [
       "(Decimal('0'), Decimal('1'), Decimal('1'))"
      ]
     },
     "execution_count": 24,
     "metadata": {},
     "output_type": "execute_result"
    }
   ],
   "source": [
    "t[1].normal_vector.coordinates"
   ]
  },
  {
   "cell_type": "code",
   "execution_count": null,
   "metadata": {},
   "outputs": [],
   "source": []
  }
 ],
 "metadata": {
  "kernelspec": {
   "display_name": "Python 3",
   "language": "python",
   "name": "python3"
  },
  "language_info": {
   "codemirror_mode": {
    "name": "ipython",
    "version": 3
   },
   "file_extension": ".py",
   "mimetype": "text/x-python",
   "name": "python",
   "nbconvert_exporter": "python",
   "pygments_lexer": "ipython3",
   "version": "3.6.6"
  }
 },
 "nbformat": 4,
 "nbformat_minor": 2
}
