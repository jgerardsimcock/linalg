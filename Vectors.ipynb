{
 "cells": [
  {
   "cell_type": "markdown",
   "metadata": {},
   "source": [
    "### Code for linear algebra course from Udacity \n",
    "[course website here](https://classroom.udacity.com/courses/ud953)"
   ]
  },
  {
   "cell_type": "code",
   "execution_count": 22,
   "metadata": {},
   "outputs": [],
   "source": [
    "#imports\n",
    "import math\n",
    "from decimal import Decimal, getcontext\n",
    "\n",
    "getcontext().prec = 30"
   ]
  },
  {
   "cell_type": "code",
   "execution_count": 20,
   "metadata": {},
   "outputs": [],
   "source": [
    "#imports\n",
    "import math\n",
    "from decimal import Decimal, getcontext\n",
    "\n",
    "getcontext().prec = 30\n",
    "\n",
    "#Vector class\n",
    "\n",
    "#notes on python magic methods and how to implement your own are here\n",
    "#https://rszalski.github.io/magicmethods/\n",
    "class Vector(object):\n",
    "    \n",
    "    CANNOT_NORM_ZERO_VEC_MSG = 'Cannot normalize the zero vector'\n",
    "    NO_UNIQUE_PARALLEL_COMPONENT_MSG = 'No unique parallel component vectors'\n",
    "    NO_UNIQUE_ORTHOG_COMPONENT_MSG = 'No unique orthogonal component vectors'\n",
    "    \n",
    "    def __init__(self, coordinates):\n",
    "        try:\n",
    "            if not coordinates:\n",
    "                raise ValueError\n",
    "            self.coordinates = tuple([Decimal(x) for x in coordinates])\n",
    "            self.dimension = len(self.coordinates)\n",
    "            \n",
    "        except ValueError:\n",
    "            raise ValueError('Coordinates cannot be empty')\n",
    "            \n",
    "        except TypeError:\n",
    "            raise TypeError('Coordinates must be an iterable')\n",
    "            \n",
    "    \n",
    "    def __str__(self):\n",
    "        return 'Vector: {}'.format(self.coordinates)\n",
    "    \n",
    "    def __eq__(self, v):\n",
    "        return self.coordinates == v.coordinates\n",
    "    \n",
    "    def plus(self, v):\n",
    "        #list comprehension with zip!\n",
    "        new_coords = [x + y for x,y in zip(self.coordinates, v.coordinates)]\n",
    "        return Vector(new_coords)\n",
    "    \n",
    "    def minus(self, v):\n",
    "        #list comprehension with zip!\n",
    "        new_coords = [x - y for x,y in zip(self.coordinates, v.coordinates)]\n",
    "        return Vector(new_coords)\n",
    "    \n",
    "    #think about how numpy does broadcasting across vectors \n",
    "    def scalar_multiply(self, c):\n",
    "        '''\n",
    "        Parameters\n",
    "        ==========\n",
    "        c: float,int \n",
    "    \n",
    "        Returns\n",
    "        =======\n",
    "        Vector\n",
    "        \n",
    "        '''\n",
    "        new_coords = [c*x for x in self.coordinates]\n",
    "        return Vector(new_coords)\n",
    "    \n",
    "    def magnitude(self):\n",
    "        \n",
    "        coords_squared = [x**2 for x in self.coordinates]\n",
    "        return math.sqrt(sum(coords_squared))\n",
    "    \n",
    "    def normalize(self):\n",
    "        try:\n",
    "            magn = self.magnitude()\n",
    "            return self.scalar_multiply(Decimal('1.0')/magn)\n",
    "        \n",
    "        #if vector has magnitude 0\n",
    "        except ZeroDivisionError:\n",
    "            raise Exception(self.CANNOT_NORM_ZERO_VEC_MSG)\n",
    "            \n",
    "    def compute_inner_product(self, v):\n",
    "        ip = sum([x*y for x,y in zip(self.coordinates, v.coordinates)])\n",
    "        return ip\n",
    "    \n",
    "    def compute_angle_radians(self, v):\n",
    "        ip = self.inner_product(v)\n",
    "        magnitude_self =  self.magnitude()\n",
    "        magnitude_v = v.magnitude()\n",
    "        angle_rad = math.acos((ip/(magnitude_self*magnitude_v)))\n",
    "        return angle_rad\n",
    "    \n",
    "    def compute_angle_degrees(self, v):\n",
    "        degrees_per_radian = 180./math.pi\n",
    "        return degrees_per_radian * self.angle_radians(v)\n",
    "    \n",
    "    \n",
    "    def compute_angle_with(self, v, in_degrees=False):\n",
    "        try: \n",
    "            u1 = self.normalize()\n",
    "            u2 = v.normalize()\n",
    "            angle_in_radians = math.acos(u1.compute_inner_product(u2))\n",
    "            \n",
    "            if in_degrees:\n",
    "                degrees_per_radian = 180./math.pi\n",
    "                return angle_in_radians*degrees_per_radian\n",
    "            \n",
    "        except Exception as e:\n",
    "            if str(e) == self.CANNOT_NORM_ZERO_VEC_MSG:\n",
    "                raise Exception('Cannot compute angle with zero vector')\n",
    "                \n",
    "            else: \n",
    "                raise e\n",
    "\n",
    "    def compute_orthogonal_component(self, basis):\n",
    "        \n",
    "        try:\n",
    "            parellel_component = compute_parallel_component(basis)\n",
    "            return self.minus(parallel_component)\n",
    "        \n",
    "        except Exception as e:\n",
    "            if str(e) == self.CANNOT_NORM_ZERO_VEC_MSG:\n",
    "                raise Exception(self.NO_UNIQUE_ORTHOG_COMPONENT_MSG)\n",
    "            \n",
    "            else: \n",
    "                raise e\n",
    "        \n",
    "    def compute_parallel_component(self, basis):\n",
    "        \n",
    "        try:\n",
    "            unit_vector = basis.normalize()\n",
    "            scalar_weight = self.inner_product(unit_vector)\n",
    "            return unit_vector.scalar_multiply(scalar_weight)\n",
    "        \n",
    "        except Exception as e:\n",
    "            if str(e) == self.CANNOT_NORM_ZERO_VEC_MSG:\n",
    "                raise Exception(self.NO_UNIQUE_PARALLEL_COMPONENT_MSG)\n",
    "            \n",
    "            else: \n",
    "                raise e\n",
    "                \n",
    "    def is_orthogonal_to(self, v, tolerance=1e-10):\n",
    "        return abs(self.inner_product(v) < tolerance)\n",
    "    \n",
    "    def is_parallel_to(self, v):\n",
    "        return ( \n",
    "                    self.is_zero() or \n",
    "                    v.is_zero() or \n",
    "                    self.compute_angle_with(v) == 0 or \n",
    "                    self.compute_angle_with(v) == math.pi \n",
    "               )\n",
    "                \n",
    "    def is_zero(self, tolerance=1e-10):\n",
    "        return slef.magnitude() < tolerance \n",
    "    \n",
    "    def compute_cross_product(self, v):\n",
    "        \n",
    "        x_1, y_1, z_1 = self.coordinates\n",
    "        x_2, y_2, z_2 = v.coordinates\n",
    "        cross_coords = [ (y_1*z_2 - y_2*z_1), -(x_1*z_2 - x_2*z-1), (x_1*y_2 - x_2*y_1) ]\n",
    "        return Vector(new_coords)\n",
    "    \n",
    "    def compute_parallelogram_area(self, v):\n",
    "        cross_product = self.compute_cross_product(v)\n",
    "        return cross_product.magnitude()\n",
    "    \n",
    "    def compute_triangle_area(self, v):\n",
    "        return self.compute_parallelogram_area(v)/ Decimal('2.0')   "
   ]
  },
  {
   "cell_type": "code",
   "execution_count": 3,
   "metadata": {},
   "outputs": [],
   "source": [
    "vector1 = Vector([7.887,4.138])\n",
    "vector2 = Vector([-8.802,6.776])"
   ]
  },
  {
   "cell_type": "code",
   "execution_count": 4,
   "metadata": {},
   "outputs": [
    {
     "name": "stdout",
     "output_type": "stream",
     "text": [
      "Vector: (7.887, 4.138)\n"
     ]
    }
   ],
   "source": [
    "print(vector1)"
   ]
  },
  {
   "cell_type": "code",
   "execution_count": 5,
   "metadata": {},
   "outputs": [
    {
     "name": "stdout",
     "output_type": "stream",
     "text": [
      "Vector: (16.689, -2.638)\n"
     ]
    }
   ],
   "source": [
    "print(vector1.minus(vector2))\n"
   ]
  },
  {
   "cell_type": "code",
   "execution_count": 6,
   "metadata": {},
   "outputs": [],
   "source": [
    "normed_vector = Vector([4.44,5.23, 5.234]).normalize()"
   ]
  },
  {
   "cell_type": "code",
   "execution_count": 7,
   "metadata": {},
   "outputs": [
    {
     "name": "stdout",
     "output_type": "stream",
     "text": [
      "Vector: (0.5145383995672942, 0.606089150841655, 0.6065526989493732)\n"
     ]
    }
   ],
   "source": [
    "print(normed_vector)"
   ]
  },
  {
   "cell_type": "code",
   "execution_count": 8,
   "metadata": {},
   "outputs": [
    {
     "data": {
      "text/plain": [
       "8.629093579281662"
      ]
     },
     "execution_count": 8,
     "metadata": {},
     "output_type": "execute_result"
    }
   ],
   "source": [
    "Vector([4.44,5.23, 5.234]).magnitude()"
   ]
  },
  {
   "cell_type": "markdown",
   "metadata": {},
   "source": [
    "#### Notes"
   ]
  },
  {
   "cell_type": "code",
   "execution_count": 9,
   "metadata": {},
   "outputs": [],
   "source": [
    "#Cauchy Schwartz Inequality\n",
    "\n",
    "#based on fact that cos(x) is bounded by (-1,1) \n",
    "#the angle between two vectors is arccos inner product of v and w and product of magnitude of v and w\n",
    "#absolute value of inner product of v and w  is less than or equal to the magnitude of v times the magnitude of w \n",
    "\n",
    "## Vectors are orthogonal if their dot product is 0\n",
    "# vectors are parralel for any scalar times a vector\n",
    "# vector v is parralel to itself\n",
    "\n",
    "# 0 vector is orthogonal and parallel to all vectors as well as itself\n",
    "# if a vector v is orthogonal to itself it must be the zero vector\n",
    "\n",
    "\n",
    "##Projecting Vectors\n",
    "\n",
    "\n",
    "#Cross Products\n",
    "#only relevant for 3 dimensions. Does not apply to higher dims\n",
    "#cross product of v and w is orthogonal to both v and w\n",
    "#output of cross product is a vector not a number\n",
    "#magnitude of cross product ||v x w|| is ||v|| * ||w|| * sin(angle between v and w)\n",
    "#if angle between v and w is 0 or pi then magnitude of cross product is zero\n",
    "# either v is zero vector or w is zero vector or v is parallel to w\n",
    "\n",
    "#"
   ]
  },
  {
   "cell_type": "code",
   "execution_count": 10,
   "metadata": {},
   "outputs": [
    {
     "data": {
      "text/plain": [
       "-41.382286"
      ]
     },
     "execution_count": 10,
     "metadata": {},
     "output_type": "execute_result"
    }
   ],
   "source": [
    "vector1.inner_product(vector2)"
   ]
  },
  {
   "cell_type": "code",
   "execution_count": 11,
   "metadata": {},
   "outputs": [],
   "source": [
    "v4 = Vector([-5.955, -4.904, -1.874])\n",
    "v5 = Vector([-4.496, -8.755, 7.103])"
   ]
  },
  {
   "cell_type": "code",
   "execution_count": 12,
   "metadata": {},
   "outputs": [
    {
     "data": {
      "text/plain": [
       "56.397178000000004"
      ]
     },
     "execution_count": 12,
     "metadata": {},
     "output_type": "execute_result"
    }
   ],
   "source": [
    "v4.inner_product(v5)"
   ]
  },
  {
   "cell_type": "code",
   "execution_count": 13,
   "metadata": {},
   "outputs": [],
   "source": [
    "v6 = Vector([3.183, -7.627])\n",
    "v7 = Vector([-2.668, 5.319])"
   ]
  },
  {
   "cell_type": "code",
   "execution_count": 14,
   "metadata": {},
   "outputs": [
    {
     "data": {
      "text/plain": [
       "3.0720263098372476"
      ]
     },
     "execution_count": 14,
     "metadata": {},
     "output_type": "execute_result"
    }
   ],
   "source": [
    "v6.angle_radians(v7)"
   ]
  },
  {
   "cell_type": "code",
   "execution_count": 15,
   "metadata": {},
   "outputs": [
    {
     "data": {
      "text/plain": [
       "3.0720263098372476"
      ]
     },
     "execution_count": 15,
     "metadata": {},
     "output_type": "execute_result"
    }
   ],
   "source": [
    "v7.angle_radians(v6)"
   ]
  },
  {
   "cell_type": "code",
   "execution_count": 18,
   "metadata": {},
   "outputs": [
    {
     "data": {
      "text/plain": [
       "176.01414210682285"
      ]
     },
     "execution_count": 18,
     "metadata": {},
     "output_type": "execute_result"
    }
   ],
   "source": [
    "v6.angle_degrees(v7)"
   ]
  },
  {
   "cell_type": "code",
   "execution_count": 21,
   "metadata": {},
   "outputs": [
    {
     "data": {
      "text/plain": [
       "60.27581120523091"
      ]
     },
     "execution_count": 21,
     "metadata": {},
     "output_type": "execute_result"
    }
   ],
   "source": [
    "v8 = Vector([7.35, 0.221, 5.188])\n",
    "v9 = Vector([2.751, 8.259, 3.985])\n",
    "\n",
    "v8.angle_degrees(v9)"
   ]
  },
  {
   "cell_type": "code",
   "execution_count": null,
   "metadata": {},
   "outputs": [],
   "source": []
  }
 ],
 "metadata": {
  "kernelspec": {
   "display_name": "Python 3",
   "language": "python",
   "name": "python3"
  },
  "language_info": {
   "codemirror_mode": {
    "name": "ipython",
    "version": 3
   },
   "file_extension": ".py",
   "mimetype": "text/x-python",
   "name": "python",
   "nbconvert_exporter": "python",
   "pygments_lexer": "ipython3",
   "version": "3.6.6"
  }
 },
 "nbformat": 4,
 "nbformat_minor": 2
}
